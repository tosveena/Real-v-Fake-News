{
 "cells": [
  {
   "cell_type": "code",
   "execution_count": 2,
   "metadata": {},
   "outputs": [],
   "source": [
    "import pandas as pd\n",
    "import numpy as np\n",
    "import matplotlib.pyplot as plt\n",
    "import time\n",
    "from sklearn.model_selection import train_test_split\n",
    "from sklearn.naive_bayes import GaussianNB, BernoulliNB, MultinomialNB\n",
    "\n",
    "# Importing dataset\n",
    "fake_data = pd.read_csv(\"fake.csv\")\n",
    "true_data = pd.read_csv(\"true.csv\")"
   ]
  },
  {
   "cell_type": "code",
   "execution_count": 3,
   "metadata": {},
   "outputs": [],
   "source": [
    "#Load Fake and True datasets\n",
    "fake_df=pd.DataFrame(fake_data)\n",
    "true_df=pd.DataFrame(true_data)\n",
    "#fake_df\n",
    "#true_df"
   ]
  },
  {
   "cell_type": "code",
   "execution_count": 4,
   "metadata": {},
   "outputs": [],
   "source": [
    "#Insert a categorical value for Fake (0) or Real (1)\n",
    "fake_df['Fake'] = '0'\n",
    "true_df['Fake'] = '1'"
   ]
  },
  {
   "cell_type": "code",
   "execution_count": 5,
   "metadata": {},
   "outputs": [
    {
     "data": {
      "text/html": [
       "<div>\n",
       "<style scoped>\n",
       "    .dataframe tbody tr th:only-of-type {\n",
       "        vertical-align: middle;\n",
       "    }\n",
       "\n",
       "    .dataframe tbody tr th {\n",
       "        vertical-align: top;\n",
       "    }\n",
       "\n",
       "    .dataframe thead th {\n",
       "        text-align: right;\n",
       "    }\n",
       "</style>\n",
       "<table border=\"1\" class=\"dataframe\">\n",
       "  <thead>\n",
       "    <tr style=\"text-align: right;\">\n",
       "      <th></th>\n",
       "      <th>title</th>\n",
       "      <th>text</th>\n",
       "      <th>subject</th>\n",
       "      <th>date</th>\n",
       "      <th>Fake</th>\n",
       "    </tr>\n",
       "  </thead>\n",
       "  <tbody>\n",
       "    <tr>\n",
       "      <td>0</td>\n",
       "      <td>Donald Trump Sends Out Embarrassing New Year’...</td>\n",
       "      <td>Donald Trump just couldn t wish all Americans ...</td>\n",
       "      <td>News</td>\n",
       "      <td>December 31, 2017</td>\n",
       "      <td>0</td>\n",
       "    </tr>\n",
       "    <tr>\n",
       "      <td>1</td>\n",
       "      <td>Drunk Bragging Trump Staffer Started Russian ...</td>\n",
       "      <td>House Intelligence Committee Chairman Devin Nu...</td>\n",
       "      <td>News</td>\n",
       "      <td>December 31, 2017</td>\n",
       "      <td>0</td>\n",
       "    </tr>\n",
       "    <tr>\n",
       "      <td>2</td>\n",
       "      <td>Sheriff David Clarke Becomes An Internet Joke...</td>\n",
       "      <td>On Friday, it was revealed that former Milwauk...</td>\n",
       "      <td>News</td>\n",
       "      <td>December 30, 2017</td>\n",
       "      <td>0</td>\n",
       "    </tr>\n",
       "    <tr>\n",
       "      <td>3</td>\n",
       "      <td>Trump Is So Obsessed He Even Has Obama’s Name...</td>\n",
       "      <td>On Christmas day, Donald Trump announced that ...</td>\n",
       "      <td>News</td>\n",
       "      <td>December 29, 2017</td>\n",
       "      <td>0</td>\n",
       "    </tr>\n",
       "    <tr>\n",
       "      <td>4</td>\n",
       "      <td>Pope Francis Just Called Out Donald Trump Dur...</td>\n",
       "      <td>Pope Francis used his annual Christmas Day mes...</td>\n",
       "      <td>News</td>\n",
       "      <td>December 25, 2017</td>\n",
       "      <td>0</td>\n",
       "    </tr>\n",
       "    <tr>\n",
       "      <td>...</td>\n",
       "      <td>...</td>\n",
       "      <td>...</td>\n",
       "      <td>...</td>\n",
       "      <td>...</td>\n",
       "      <td>...</td>\n",
       "    </tr>\n",
       "    <tr>\n",
       "      <td>21412</td>\n",
       "      <td>'Fully committed' NATO backs new U.S. approach...</td>\n",
       "      <td>BRUSSELS (Reuters) - NATO allies on Tuesday we...</td>\n",
       "      <td>worldnews</td>\n",
       "      <td>August 22, 2017</td>\n",
       "      <td>1</td>\n",
       "    </tr>\n",
       "    <tr>\n",
       "      <td>21413</td>\n",
       "      <td>LexisNexis withdrew two products from Chinese ...</td>\n",
       "      <td>LONDON (Reuters) - LexisNexis, a provider of l...</td>\n",
       "      <td>worldnews</td>\n",
       "      <td>August 22, 2017</td>\n",
       "      <td>1</td>\n",
       "    </tr>\n",
       "    <tr>\n",
       "      <td>21414</td>\n",
       "      <td>Minsk cultural hub becomes haven from authorities</td>\n",
       "      <td>MINSK (Reuters) - In the shadow of disused Sov...</td>\n",
       "      <td>worldnews</td>\n",
       "      <td>August 22, 2017</td>\n",
       "      <td>1</td>\n",
       "    </tr>\n",
       "    <tr>\n",
       "      <td>21415</td>\n",
       "      <td>Vatican upbeat on possibility of Pope Francis ...</td>\n",
       "      <td>MOSCOW (Reuters) - Vatican Secretary of State ...</td>\n",
       "      <td>worldnews</td>\n",
       "      <td>August 22, 2017</td>\n",
       "      <td>1</td>\n",
       "    </tr>\n",
       "    <tr>\n",
       "      <td>21416</td>\n",
       "      <td>Indonesia to buy $1.14 billion worth of Russia...</td>\n",
       "      <td>JAKARTA (Reuters) - Indonesia will buy 11 Sukh...</td>\n",
       "      <td>worldnews</td>\n",
       "      <td>August 22, 2017</td>\n",
       "      <td>1</td>\n",
       "    </tr>\n",
       "  </tbody>\n",
       "</table>\n",
       "<p>44898 rows × 5 columns</p>\n",
       "</div>"
      ],
      "text/plain": [
       "                                                   title  \\\n",
       "0       Donald Trump Sends Out Embarrassing New Year’...   \n",
       "1       Drunk Bragging Trump Staffer Started Russian ...   \n",
       "2       Sheriff David Clarke Becomes An Internet Joke...   \n",
       "3       Trump Is So Obsessed He Even Has Obama’s Name...   \n",
       "4       Pope Francis Just Called Out Donald Trump Dur...   \n",
       "...                                                  ...   \n",
       "21412  'Fully committed' NATO backs new U.S. approach...   \n",
       "21413  LexisNexis withdrew two products from Chinese ...   \n",
       "21414  Minsk cultural hub becomes haven from authorities   \n",
       "21415  Vatican upbeat on possibility of Pope Francis ...   \n",
       "21416  Indonesia to buy $1.14 billion worth of Russia...   \n",
       "\n",
       "                                                    text    subject  \\\n",
       "0      Donald Trump just couldn t wish all Americans ...       News   \n",
       "1      House Intelligence Committee Chairman Devin Nu...       News   \n",
       "2      On Friday, it was revealed that former Milwauk...       News   \n",
       "3      On Christmas day, Donald Trump announced that ...       News   \n",
       "4      Pope Francis used his annual Christmas Day mes...       News   \n",
       "...                                                  ...        ...   \n",
       "21412  BRUSSELS (Reuters) - NATO allies on Tuesday we...  worldnews   \n",
       "21413  LONDON (Reuters) - LexisNexis, a provider of l...  worldnews   \n",
       "21414  MINSK (Reuters) - In the shadow of disused Sov...  worldnews   \n",
       "21415  MOSCOW (Reuters) - Vatican Secretary of State ...  worldnews   \n",
       "21416  JAKARTA (Reuters) - Indonesia will buy 11 Sukh...  worldnews   \n",
       "\n",
       "                    date Fake  \n",
       "0      December 31, 2017    0  \n",
       "1      December 31, 2017    0  \n",
       "2      December 30, 2017    0  \n",
       "3      December 29, 2017    0  \n",
       "4      December 25, 2017    0  \n",
       "...                  ...  ...  \n",
       "21412   August 22, 2017     1  \n",
       "21413   August 22, 2017     1  \n",
       "21414   August 22, 2017     1  \n",
       "21415   August 22, 2017     1  \n",
       "21416   August 22, 2017     1  \n",
       "\n",
       "[44898 rows x 5 columns]"
      ]
     },
     "execution_count": 5,
     "metadata": {},
     "output_type": "execute_result"
    }
   ],
   "source": [
    "#Combine Data\n",
    "combined=pd.concat([fake_df, true_df])\n",
    "combined"
   ]
  },
  {
   "cell_type": "code",
   "execution_count": 6,
   "metadata": {},
   "outputs": [
    {
     "name": "stderr",
     "output_type": "stream",
     "text": [
      "[nltk_data] Downloading package stopwords to\n",
      "[nltk_data]     /Users/tosveena/nltk_data...\n",
      "[nltk_data]   Package stopwords is already up-to-date!\n"
     ]
    },
    {
     "data": {
      "text/plain": [
       "True"
      ]
     },
     "execution_count": 6,
     "metadata": {},
     "output_type": "execute_result"
    }
   ],
   "source": [
    "import nltk\n",
    "nltk.download('stopwords')"
   ]
  },
  {
   "cell_type": "code",
   "execution_count": 7,
   "metadata": {},
   "outputs": [],
   "source": [
    "from nltk import word_tokenize\n",
    "from nltk.corpus import stopwords\n",
    "import string\n",
    "\n",
    "# nltk_tokens = nltk.word_tokenize(combined['text'])\n",
    "# word_tokenize(combined['text'])\n",
    "# word_tokenize('hello world')\n",
    "stopword=stopwords.words('english')\n",
    "punctuations=list(string.punctuation)\n",
    "tokenized_list=[]\n",
    "for each_row in combined['text']:\n",
    "    word_tokens=word_tokenize(each_row)\n",
    "    removing_punc=[word for word in word_tokens if word not in punctuations]\n",
    "    removing_stopwords=[word for word in removing_punc if word not in stopword]\n",
    "    tokenized_list.append(' '.join(removing_stopwords))"
   ]
  },
  {
   "cell_type": "code",
   "execution_count": 8,
   "metadata": {},
   "outputs": [
    {
     "data": {
      "text/plain": [
       "<44898x121997 sparse matrix of type '<class 'numpy.float64'>'\n",
       "\twith 7750263 stored elements in Compressed Sparse Row format>"
      ]
     },
     "execution_count": 8,
     "metadata": {},
     "output_type": "execute_result"
    }
   ],
   "source": [
    "# from sklearn.feature_extraction.text import CountVectorizer\n",
    "# vectorizer=CountVectorizer()\n",
    "# bag_of_words=vectorizer.fit_transform(combined['text'])\n",
    "# feature_names=vectorizer.get_feature_names()\n",
    "# bow_df=pd.DataFrame(bag_of_words.toarray(), columns=feature_names)\n",
    "# bow_df\n",
    "\n",
    "from sklearn.feature_extraction.text import TfidfVectorizer\n",
    "vectorizer=TfidfVectorizer()\n",
    "vectorizer.fit(tokenized_list)\n",
    "# need to save this vectorizer to process the inputs\n",
    "x=vectorizer.transform(tokenized_list)\n",
    "x"
   ]
  },
  {
   "cell_type": "code",
   "execution_count": 52,
   "metadata": {},
   "outputs": [
    {
     "data": {
      "text/plain": [
       "121997"
      ]
     },
     "execution_count": 52,
     "metadata": {},
     "output_type": "execute_result"
    }
   ],
   "source": [
    "feature_names=vectorizer.get_feature_names()\n",
    "len(feature_names)"
   ]
  },
  {
   "cell_type": "code",
   "execution_count": 9,
   "metadata": {},
   "outputs": [],
   "source": [
    "y=combined['Fake']"
   ]
  },
  {
   "cell_type": "code",
   "execution_count": 10,
   "metadata": {},
   "outputs": [],
   "source": [
    "from sklearn.model_selection import train_test_split"
   ]
  },
  {
   "cell_type": "code",
   "execution_count": null,
   "metadata": {},
   "outputs": [],
   "source": [
    "from sklearn.naive_bayes import GaussianNB\n",
    "x_train, x_test, y_train, y_test=train_test_split(x.toarray(), y)\n",
    "gnb=GaussianNB()\n",
    "gnb.fit(x_train, y_train)\n",
    "gnb.score(x_test, y_test)"
   ]
  },
  {
   "cell_type": "code",
   "execution_count": 56,
   "metadata": {},
   "outputs": [
    {
     "data": {
      "text/plain": [
       "<1x121997 sparse matrix of type '<class 'numpy.float64'>'\n",
       "\twith 6 stored elements in Compressed Sparse Row format>"
      ]
     },
     "execution_count": 56,
     "metadata": {},
     "output_type": "execute_result"
    }
   ],
   "source": [
    "test_sample=vectorizer.transform(['hi my name is Donald Trump'])\n",
    "model.predict(test_sample)"
   ]
  },
  {
   "cell_type": "code",
   "execution_count": 18,
   "metadata": {},
   "outputs": [
    {
     "data": {
      "text/plain": [
       "00                 0\n",
       "000                0\n",
       "0000               0\n",
       "00000017           0\n",
       "00004              0\n",
       "                  ..\n",
       "zzuml4hkoc         0\n",
       "zzzzaaaacccchhh    0\n",
       "zzzzzzzz           0\n",
       "zzzzzzzzzzzzz      0\n",
       "émigré             0\n",
       "Name: 44897, Length: 122002, dtype: int64"
      ]
     },
     "execution_count": 18,
     "metadata": {},
     "output_type": "execute_result"
    }
   ],
   "source": [
    "sample=bow_df.iloc[-1,:]\n",
    "sample"
   ]
  },
  {
   "cell_type": "code",
   "execution_count": 39,
   "metadata": {},
   "outputs": [
    {
     "name": "stdout",
     "output_type": "stream",
     "text": [
      "to              9\n",
      "in              8\n",
      "of              6\n",
      "and             5\n",
      "the             5\n",
      "indonesia       4\n",
      "is              4\n",
      "trade           3\n",
      "said            3\n",
      "russia          3\n",
      "commodities     3\n",
      "indonesian      3\n",
      "million         2\n",
      "minister        2\n",
      "aviation        2\n",
      "oil             2\n",
      "expected        2\n",
      "palm            2\n",
      "worth           2\n",
      "its             2\n",
      "cash            2\n",
      "fighter         2\n",
      "for             2\n",
      "southeast       2\n",
      "state           2\n",
      "be              2\n",
      "jets            2\n",
      "had             2\n",
      "with            2\n",
      "trying          2\n",
      "which           2\n",
      "two             2\n",
      "expand          1\n",
      "ageing          1\n",
      "economy         1\n",
      "education       1\n",
      "energy          1\n",
      "enggartiasto    1\n",
      "after           1\n",
      "european        1\n",
      "exchange        1\n",
      "exports         1\n",
      "addition        1\n",
      "being           1\n",
      "accidents       1\n",
      "facing          1\n",
      "570             1\n",
      "411             1\n",
      "35              1\n",
      "2016            1\n",
      "14              1\n",
      "finalised       1\n",
      "force           1\n",
      "details         1\n",
      "asian           1\n",
      "air             1\n",
      "defence         1\n",
      "between         1\n",
      "asia            1\n",
      "bilateral       1\n",
      "billion         1\n",
      "are             1\n",
      "buy             1\n",
      "by              1\n",
      "cabinet         1\n",
      "among           1\n",
      "amid            1\n",
      "coffee          1\n",
      "from            1\n",
      "also            1\n",
      "company         1\n",
      "conglomerate    1\n",
      "consumption     1\n",
      "cooperation     1\n",
      "could           1\n",
      "countries       1\n",
      "country         1\n",
      "currently       1\n",
      "cut             1\n",
      "deal            1\n",
      "delivered       1\n",
      "years           1\n",
      "has             1\n",
      "ryamizard       1\n",
      "ship            1\n",
      "soon            1\n",
      "stages          1\n",
      "starting        1\n",
      "statement       1\n",
      "still           1\n",
      "string          1\n",
      "su              1\n",
      "suhkoi          1\n",
      "sukhoi          1\n",
      "surplus         1\n",
      "tea             1\n",
      "technology      1\n",
      "that            1\n",
      "threats         1\n",
      "tourism         1\n",
      "trading         1\n",
      "tuesday         1\n",
      "type            1\n",
      "union           1\n",
      "up              1\n",
      "volume          1\n",
      "wants           1\n",
      "were            1\n",
      "will            1\n",
      "sanctions       1\n",
      "ryacudu         1\n",
      "he              1\n",
      "russian         1\n",
      "imposed         1\n",
      "include         1\n",
      "jakarta         1\n",
      "joint           1\n",
      "largest         1\n",
      "lukita          1\n",
      "meanwhile       1\n",
      "military        1\n",
      "ministers       1\n",
      "modernize       1\n",
      "negotiated      1\n",
      "new             1\n",
      "on              1\n",
      "others          1\n",
      "pay             1\n",
      "perdangangan    1\n",
      "perusahaan      1\n",
      "pledged         1\n",
      "previously      1\n",
      "products        1\n",
      "promote         1\n",
      "pt              1\n",
      "reuters         1\n",
      "rostec          1\n",
      "round           1\n",
      "11              1\n",
      "Name: 44897, dtype: int64\n"
     ]
    }
   ],
   "source": [
    "pd.set_option('display.max_rows', None)\n",
    "print(sample[sample != 0].sort_values(ascending=False))"
   ]
  },
  {
   "cell_type": "code",
   "execution_count": 28,
   "metadata": {},
   "outputs": [
    {
     "data": {
      "text/plain": [
       "'JAKARTA (Reuters) - Indonesia will buy 11 Sukhoi fighter jets worth $1.14 billion from Russia in exchange for cash and Indonesian commodities, two cabinet ministers said on Tuesday. The Southeast Asian country has pledged to ship up to $570 million worth of commodities in addition to cash to pay for the Suhkoi SU-35 fighter jets, which are expected to be delivered in stages starting in two years. Indonesian Trade Minister Enggartiasto Lukita said in a joint statement with Defence Minister Ryamizard Ryacudu that details of the type and volume of commodities were  still being negotiated . Previously he had said the exports could include palm oil, tea, and coffee. The deal is expected to be finalised soon between Indonesian state trading company PT Perusahaan Perdangangan Indonesia and Russian state conglomerate Rostec. Russia is currently facing a new round of U.S.-imposed trade sanctions. Meanwhile, Southeast Asia s largest economy is trying to promote its palm oil products amid threats of a cut in consumption by European Union countries. Indonesia is also trying to modernize its ageing air force after a string of military aviation accidents. Indonesia, which had a $411 million trade surplus with Russia in 2016, wants to expand bilateral cooperation in tourism, education, energy, technology and aviation among others. '"
      ]
     },
     "execution_count": 28,
     "metadata": {},
     "output_type": "execute_result"
    }
   ],
   "source": [
    "combined.iloc[-1,:]['text']"
   ]
  },
  {
   "cell_type": "code",
   "execution_count": null,
   "metadata": {},
   "outputs": [],
   "source": []
  }
 ],
 "metadata": {
  "kernelspec": {
   "display_name": "Python 3",
   "language": "python",
   "name": "python3"
  },
  "language_info": {
   "codemirror_mode": {
    "name": "ipython",
    "version": 3
   },
   "file_extension": ".py",
   "mimetype": "text/x-python",
   "name": "python",
   "nbconvert_exporter": "python",
   "pygments_lexer": "ipython3",
   "version": "3.7.4"
  }
 },
 "nbformat": 4,
 "nbformat_minor": 2
}
