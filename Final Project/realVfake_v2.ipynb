{
  "nbformat": 4,
  "nbformat_minor": 0,
  "metadata": {
    "kernelspec": {
      "display_name": "Python 3",
      "language": "python",
      "name": "python3"
    },
    "language_info": {
      "codemirror_mode": {
        "name": "ipython",
        "version": 3
      },
      "file_extension": ".py",
      "mimetype": "text/x-python",
      "name": "python",
      "nbconvert_exporter": "python",
      "pygments_lexer": "ipython3",
      "version": "3.7.4"
    },
    "colab": {
      "name": "realVfake-v1.ipynb",
      "provenance": []
    }
  },
  "cells": [
    {
      "cell_type": "code",
      "metadata": {
        "id": "y5iJeFYYVRb-",
        "colab_type": "code",
        "colab": {}
      },
      "source": [
        "import pandas as pd\n",
        "import numpy as np\n",
        "import matplotlib.pyplot as plt\n",
        "import time\n",
        "from sklearn.model_selection import train_test_split\n",
        "from sklearn.naive_bayes import GaussianNB, BernoulliNB, MultinomialNB\n",
        "\n",
        "# Importing dataset\n",
        "fake_data = pd.read_csv(\"Fake.csv\")\n",
        "true_data = pd.read_csv(\"True.csv\")"
      ],
      "execution_count": 1,
      "outputs": []
    },
    {
      "cell_type": "code",
      "metadata": {
        "id": "1duu19A1VRcC",
        "colab_type": "code",
        "colab": {}
      },
      "source": [
        "#Load Fake and True datasets\n",
        "fake_df=pd.DataFrame(fake_data)\n",
        "true_df=pd.DataFrame(true_data)\n",
        "#fake_df\n",
        "#true_df"
      ],
      "execution_count": 2,
      "outputs": []
    },
    {
      "cell_type": "code",
      "metadata": {
        "id": "UDwlUzKaVRcE",
        "colab_type": "code",
        "colab": {}
      },
      "source": [
        "#Insert a categorical value for Fake (0) or Real (1)\n",
        "fake_df['Fake'] = '0'\n",
        "true_df['Fake'] = '1'"
      ],
      "execution_count": 3,
      "outputs": []
    },
    {
      "cell_type": "code",
      "metadata": {
        "id": "9yh2CgbFVRcH",
        "colab_type": "code",
        "colab": {
          "base_uri": "https://localhost:8080/",
          "height": 419
        },
        "outputId": "23ccd284-22f7-4604-c44d-8e0328fbd77c"
      },
      "source": [
        "#Combine Data\n",
        "combined=pd.concat([fake_df, true_df])\n",
        "combined"
      ],
      "execution_count": 4,
      "outputs": [
        {
          "output_type": "execute_result",
          "data": {
            "text/html": [
              "<div>\n",
              "<style scoped>\n",
              "    .dataframe tbody tr th:only-of-type {\n",
              "        vertical-align: middle;\n",
              "    }\n",
              "\n",
              "    .dataframe tbody tr th {\n",
              "        vertical-align: top;\n",
              "    }\n",
              "\n",
              "    .dataframe thead th {\n",
              "        text-align: right;\n",
              "    }\n",
              "</style>\n",
              "<table border=\"1\" class=\"dataframe\">\n",
              "  <thead>\n",
              "    <tr style=\"text-align: right;\">\n",
              "      <th></th>\n",
              "      <th>title</th>\n",
              "      <th>text</th>\n",
              "      <th>subject</th>\n",
              "      <th>date</th>\n",
              "      <th>Fake</th>\n",
              "    </tr>\n",
              "  </thead>\n",
              "  <tbody>\n",
              "    <tr>\n",
              "      <th>0</th>\n",
              "      <td>Donald Trump Sends Out Embarrassing New Year’...</td>\n",
              "      <td>Donald Trump just couldn t wish all Americans ...</td>\n",
              "      <td>News</td>\n",
              "      <td>December 31, 2017</td>\n",
              "      <td>0</td>\n",
              "    </tr>\n",
              "    <tr>\n",
              "      <th>1</th>\n",
              "      <td>Drunk Bragging Trump Staffer Started Russian ...</td>\n",
              "      <td>House Intelligence Committee Chairman Devin Nu...</td>\n",
              "      <td>News</td>\n",
              "      <td>December 31, 2017</td>\n",
              "      <td>0</td>\n",
              "    </tr>\n",
              "    <tr>\n",
              "      <th>2</th>\n",
              "      <td>Sheriff David Clarke Becomes An Internet Joke...</td>\n",
              "      <td>On Friday, it was revealed that former Milwauk...</td>\n",
              "      <td>News</td>\n",
              "      <td>December 30, 2017</td>\n",
              "      <td>0</td>\n",
              "    </tr>\n",
              "    <tr>\n",
              "      <th>3</th>\n",
              "      <td>Trump Is So Obsessed He Even Has Obama’s Name...</td>\n",
              "      <td>On Christmas day, Donald Trump announced that ...</td>\n",
              "      <td>News</td>\n",
              "      <td>December 29, 2017</td>\n",
              "      <td>0</td>\n",
              "    </tr>\n",
              "    <tr>\n",
              "      <th>4</th>\n",
              "      <td>Pope Francis Just Called Out Donald Trump Dur...</td>\n",
              "      <td>Pope Francis used his annual Christmas Day mes...</td>\n",
              "      <td>News</td>\n",
              "      <td>December 25, 2017</td>\n",
              "      <td>0</td>\n",
              "    </tr>\n",
              "    <tr>\n",
              "      <th>...</th>\n",
              "      <td>...</td>\n",
              "      <td>...</td>\n",
              "      <td>...</td>\n",
              "      <td>...</td>\n",
              "      <td>...</td>\n",
              "    </tr>\n",
              "    <tr>\n",
              "      <th>21412</th>\n",
              "      <td>'Fully committed' NATO backs new U.S. approach...</td>\n",
              "      <td>BRUSSELS (Reuters) - NATO allies on Tuesday we...</td>\n",
              "      <td>worldnews</td>\n",
              "      <td>August 22, 2017</td>\n",
              "      <td>1</td>\n",
              "    </tr>\n",
              "    <tr>\n",
              "      <th>21413</th>\n",
              "      <td>LexisNexis withdrew two products from Chinese ...</td>\n",
              "      <td>LONDON (Reuters) - LexisNexis, a provider of l...</td>\n",
              "      <td>worldnews</td>\n",
              "      <td>August 22, 2017</td>\n",
              "      <td>1</td>\n",
              "    </tr>\n",
              "    <tr>\n",
              "      <th>21414</th>\n",
              "      <td>Minsk cultural hub becomes haven from authorities</td>\n",
              "      <td>MINSK (Reuters) - In the shadow of disused Sov...</td>\n",
              "      <td>worldnews</td>\n",
              "      <td>August 22, 2017</td>\n",
              "      <td>1</td>\n",
              "    </tr>\n",
              "    <tr>\n",
              "      <th>21415</th>\n",
              "      <td>Vatican upbeat on possibility of Pope Francis ...</td>\n",
              "      <td>MOSCOW (Reuters) - Vatican Secretary of State ...</td>\n",
              "      <td>worldnews</td>\n",
              "      <td>August 22, 2017</td>\n",
              "      <td>1</td>\n",
              "    </tr>\n",
              "    <tr>\n",
              "      <th>21416</th>\n",
              "      <td>Indonesia to buy $1.14 billion worth of Russia...</td>\n",
              "      <td>JAKARTA (Reuters) - Indonesia will buy 11 Sukh...</td>\n",
              "      <td>worldnews</td>\n",
              "      <td>August 22, 2017</td>\n",
              "      <td>1</td>\n",
              "    </tr>\n",
              "  </tbody>\n",
              "</table>\n",
              "<p>44898 rows × 5 columns</p>\n",
              "</div>"
            ],
            "text/plain": [
              "                                                   title  ... Fake\n",
              "0       Donald Trump Sends Out Embarrassing New Year’...  ...    0\n",
              "1       Drunk Bragging Trump Staffer Started Russian ...  ...    0\n",
              "2       Sheriff David Clarke Becomes An Internet Joke...  ...    0\n",
              "3       Trump Is So Obsessed He Even Has Obama’s Name...  ...    0\n",
              "4       Pope Francis Just Called Out Donald Trump Dur...  ...    0\n",
              "...                                                  ...  ...  ...\n",
              "21412  'Fully committed' NATO backs new U.S. approach...  ...    1\n",
              "21413  LexisNexis withdrew two products from Chinese ...  ...    1\n",
              "21414  Minsk cultural hub becomes haven from authorities  ...    1\n",
              "21415  Vatican upbeat on possibility of Pope Francis ...  ...    1\n",
              "21416  Indonesia to buy $1.14 billion worth of Russia...  ...    1\n",
              "\n",
              "[44898 rows x 5 columns]"
            ]
          },
          "metadata": {
            "tags": []
          },
          "execution_count": 4
        }
      ]
    },
    {
      "cell_type": "code",
      "metadata": {
        "id": "TDfjSbbiVRcK",
        "colab_type": "code",
        "colab": {
          "base_uri": "https://localhost:8080/",
          "height": 68
        },
        "outputId": "268bb1ba-f539-44ad-bfbc-4a9ecfd078b5"
      },
      "source": [
        "import nltk\n",
        "nltk.download('stopwords')"
      ],
      "execution_count": 5,
      "outputs": [
        {
          "output_type": "stream",
          "text": [
            "[nltk_data] Downloading package stopwords to /root/nltk_data...\n",
            "[nltk_data]   Package stopwords is already up-to-date!\n"
          ],
          "name": "stdout"
        },
        {
          "output_type": "execute_result",
          "data": {
            "text/plain": [
              "True"
            ]
          },
          "metadata": {
            "tags": []
          },
          "execution_count": 5
        }
      ]
    },
    {
      "cell_type": "code",
      "metadata": {
        "id": "OYXyqYSVVRcN",
        "colab_type": "code",
        "colab": {
          "base_uri": "https://localhost:8080/",
          "height": 85
        },
        "outputId": "d3be7584-50b0-4553-f9d4-031a9b154cd7"
      },
      "source": [
        "from nltk import word_tokenize\n",
        "from nltk.corpus import stopwords\n",
        "import string\n",
        "import nltk\n",
        "nltk.download('punkt')\n",
        "nltk.download('stopwords')\n",
        "# nltk_tokens = nltk.word_tokenize(combined['text'])\n",
        "# word_tokenize(combined['text'])\n",
        "# word_tokenize('hello world')\n",
        "stopword=stopwords.words('english')\n",
        "punctuations=list(string.punctuation)\n",
        "tokenized_list=[]\n",
        "for each_row in combined['text']:\n",
        "    word_tokens=word_tokenize(each_row)\n",
        "    removing_punc=[word for word in word_tokens if word not in punctuations]\n",
        "    removing_stopwords=[word for word in removing_punc if word not in stopword]\n",
        "    tokenized_list.append(' '.join(removing_stopwords))"
      ],
      "execution_count": 6,
      "outputs": [
        {
          "output_type": "stream",
          "text": [
            "[nltk_data] Downloading package punkt to /root/nltk_data...\n",
            "[nltk_data]   Package punkt is already up-to-date!\n",
            "[nltk_data] Downloading package stopwords to /root/nltk_data...\n",
            "[nltk_data]   Package stopwords is already up-to-date!\n"
          ],
          "name": "stdout"
        }
      ]
    },
    {
      "cell_type": "code",
      "metadata": {
        "id": "FmRQKSNbVRcP",
        "colab_type": "code",
        "colab": {
          "base_uri": "https://localhost:8080/",
          "height": 51
        },
        "outputId": "be9f2b50-a056-4860-c523-fe2e055633e6"
      },
      "source": [
        "# from sklearn.feature_extraction.text import CountVectorizer\n",
        "# vectorizer=CountVectorizer()\n",
        "# bag_of_words=vectorizer.fit_transform(combined['text'])\n",
        "# feature_names=vectorizer.get_feature_names()\n",
        "# bow_df=pd.DataFrame(bag_of_words.toarray(), columns=feature_names)\n",
        "# bow_df\n",
        "\n",
        "from sklearn.feature_extraction.text import TfidfVectorizer\n",
        "vectorizer=TfidfVectorizer(max_features=10000)\n",
        "vectorizer.fit(tokenized_list)\n",
        "# need to save this vectorizer to process the inputs\n",
        "x=vectorizer.transform(tokenized_list)\n",
        "x"
      ],
      "execution_count": 7,
      "outputs": [
        {
          "output_type": "execute_result",
          "data": {
            "text/plain": [
              "<44898x10000 sparse matrix of type '<class 'numpy.float64'>'\n",
              "\twith 6983972 stored elements in Compressed Sparse Row format>"
            ]
          },
          "metadata": {
            "tags": []
          },
          "execution_count": 7
        }
      ]
    },
    {
      "cell_type": "code",
      "metadata": {
        "id": "9DemBnMOVRcS",
        "colab_type": "code",
        "colab": {
          "base_uri": "https://localhost:8080/",
          "height": 34
        },
        "outputId": "5eda01ac-2c72-4263-9006-896c11ddab51"
      },
      "source": [
        "feature_names=vectorizer.get_feature_names()\n",
        "len(feature_names)"
      ],
      "execution_count": 8,
      "outputs": [
        {
          "output_type": "execute_result",
          "data": {
            "text/plain": [
              "10000"
            ]
          },
          "metadata": {
            "tags": []
          },
          "execution_count": 8
        }
      ]
    },
    {
      "cell_type": "code",
      "metadata": {
        "id": "9YIP2WB9VRcU",
        "colab_type": "code",
        "colab": {}
      },
      "source": [
        "y=combined['Fake']"
      ],
      "execution_count": 9,
      "outputs": []
    },
    {
      "cell_type": "code",
      "metadata": {
        "id": "6XzxEMAXVRcW",
        "colab_type": "code",
        "colab": {}
      },
      "source": [
        "from sklearn.model_selection import train_test_split"
      ],
      "execution_count": 10,
      "outputs": []
    },
    {
      "cell_type": "code",
      "metadata": {
        "id": "82PKxp9wVRcY",
        "colab_type": "code",
        "colab": {
          "base_uri": "https://localhost:8080/",
          "height": 68
        },
        "outputId": "7b35791d-f958-4b66-c99f-c99f4a322a5c"
      },
      "source": [
        "import timeit\n",
        "x_train, x_test, y_train, y_test=train_test_split(x.toarray(), y)\n",
        "nb=GaussianNB()\n",
        "nb.fit(x_train, y_train)\n",
        "%time nb.score(x_test, y_test)\n",
        "\n"
      ],
      "execution_count": 42,
      "outputs": [
        {
          "output_type": "stream",
          "text": [
            "CPU times: user 1.1 s, sys: 999 µs, total: 1.1 s\n",
            "Wall time: 1.1 s\n"
          ],
          "name": "stdout"
        },
        {
          "output_type": "execute_result",
          "data": {
            "text/plain": [
              "0.9156347438752784"
            ]
          },
          "metadata": {
            "tags": []
          },
          "execution_count": 42
        }
      ]
    },
    {
      "cell_type": "code",
      "metadata": {
        "id": "xTcTTtPX0QjP",
        "colab_type": "code",
        "colab": {
          "base_uri": "https://localhost:8080/",
          "height": 68
        },
        "outputId": "c5decd17-2fb5-4219-a295-0c5ef399713b"
      },
      "source": [
        "x_train, x_test, y_train, y_test=train_test_split(x.toarray(), y)\n",
        "Bnb=BernoulliNB()\n",
        "Bnb.fit(x_train, y_train)\n",
        "%time Bnb.score(x_test, y_test)\n"
      ],
      "execution_count": 43,
      "outputs": [
        {
          "output_type": "stream",
          "text": [
            "CPU times: user 1.34 s, sys: 157 ms, total: 1.5 s\n",
            "Wall time: 1.15 s\n"
          ],
          "name": "stdout"
        },
        {
          "output_type": "execute_result",
          "data": {
            "text/plain": [
              "0.9635634743875279"
            ]
          },
          "metadata": {
            "tags": []
          },
          "execution_count": 43
        }
      ]
    },
    {
      "cell_type": "code",
      "metadata": {
        "id": "iBV6AqOV0fft",
        "colab_type": "code",
        "colab": {
          "base_uri": "https://localhost:8080/",
          "height": 68
        },
        "outputId": "a39700ad-0d56-46f8-c1d2-bd30434b166a"
      },
      "source": [
        "x_train, x_test, y_train, y_test=train_test_split(x.toarray(), y)\n",
        "Mnb=MultinomialNB()\n",
        "Mnb.fit(x_train, y_train)\n",
        "%time Mnb.score(x_test, y_test)\n"
      ],
      "execution_count": 44,
      "outputs": [
        {
          "output_type": "stream",
          "text": [
            "CPU times: user 549 ms, sys: 97 ms, total: 646 ms\n",
            "Wall time: 331 ms\n"
          ],
          "name": "stdout"
        },
        {
          "output_type": "execute_result",
          "data": {
            "text/plain": [
              "0.93728285077951"
            ]
          },
          "metadata": {
            "tags": []
          },
          "execution_count": 44
        }
      ]
    },
    {
      "cell_type": "code",
      "metadata": {
        "id": "ZJItrtvoVRcb",
        "colab_type": "code",
        "colab": {
          "base_uri": "https://localhost:8080/",
          "height": 34
        },
        "outputId": "d6fd021f-a7da-4625-df2f-b249eb322e54"
      },
      "source": [
        "loaded_vectorizer=pickle.load(open('vectorizer.sav', 'rb'))\n",
        "loaded_model=pickle.load(open('Bnb_model.sav', 'rb'))\n",
        "test_sample=loaded_vectorizer.transform([sample_text])\n",
        "loaded_model.predict(test_sample.toarray())"
      ],
      "execution_count": 47,
      "outputs": [
        {
          "output_type": "execute_result",
          "data": {
            "text/plain": [
              "array(['1'], dtype='<U1')"
            ]
          },
          "metadata": {
            "tags": []
          },
          "execution_count": 47
        }
      ]
    },
    {
      "cell_type": "code",
      "metadata": {
        "id": "fkV32t8HVRci",
        "colab_type": "code",
        "colab": {}
      },
      "source": [
        "sample_text=combined.iloc[-1,:]['text']"
      ],
      "execution_count": 48,
      "outputs": []
    },
    {
      "cell_type": "code",
      "metadata": {
        "id": "6l_bmZCrVRcm",
        "colab_type": "code",
        "colab": {}
      },
      "source": [
        "import pickle\n",
        "pickle.dump(vectorizer, open('vectorizer.sav', 'wb'))\n",
        "pickle.dump(gnb, open('Bnb_model.sav', 'wb'))"
      ],
      "execution_count": 46,
      "outputs": []
    },
    {
      "cell_type": "code",
      "metadata": {
        "id": "AEzwjhc_bRRW",
        "colab_type": "code",
        "colab": {}
      },
      "source": [
        ""
      ],
      "execution_count": null,
      "outputs": []
    }
  ]
}